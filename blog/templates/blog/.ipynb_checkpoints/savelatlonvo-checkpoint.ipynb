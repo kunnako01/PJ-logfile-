{
 "cells": [
  {
   "cell_type": "code",
   "execution_count": 6,
   "metadata": {},
   "outputs": [
    {
     "name": "stdout",
     "output_type": "stream",
     "text": [
      "[17.845, 102.5842, 'Thailand']\n"
     ]
    }
   ],
   "source": [
    "import ast\n",
    "data5=[]\n",
    "datalat=[]\n",
    "datalon=[]\n",
    "dataco = []\n",
    "dataeq=[]\n",
    "i=0\n",
    "with open('C:/python3.7/Work_Sof2/Django/MyProject/blog/templates/blog/newdata.json',mode = 'r') as f:\n",
    "    for line in f:\n",
    "        r= ast.literal_eval(line)\n",
    "        data5.append(r)\n",
    "        datalat.append(r['Lat'])\n",
    "        datalon.append(r['Lon'])\n",
    "        dataco.append(r['Country'])\n",
    "        i = i +1\n",
    "#print(datalat)\n",
    "for k in range(i):\n",
    "    dataeq = [datalat[k],datalon[k],dataco[k]]\n",
    "print(dataeq)"
   ]
  },
  {
   "cell_type": "code",
   "execution_count": 14,
   "metadata": {},
   "outputs": [
    {
     "name": "stdout",
     "output_type": "stream",
     "text": [
      "37.751\n",
      "37.751\n",
      "17.845\n",
      "37.751\n",
      "17.845\n",
      "17.845\n",
      "37.751\n",
      "17.845\n",
      "17.845\n",
      "41.5403\n",
      "43.6319\n",
      "-33.494\n",
      "29.6813\n",
      "46.0\n",
      "17.845\n",
      "17.845\n",
      "51.2993\n",
      "43.6319\n",
      "17.845\n",
      "31.0456\n",
      "37.751\n",
      "51.6894\n",
      "43.6319\n",
      "37.751\n",
      "17.845\n",
      "14.5955\n",
      "43.6319\n",
      "29.6813\n",
      "37.751\n",
      "37.751\n",
      "37.751\n",
      "14.5955\n",
      "38.3604\n",
      "2.5\n",
      "37.751\n",
      "38.3848\n",
      "42.4667\n",
      "43.6319\n",
      "-22.7993\n",
      "46.0\n",
      "47.7333\n",
      "51.4964\n",
      "51.2993\n",
      "43.6319\n",
      "32.7139\n",
      "17.845\n",
      "17.845\n"
     ]
    }
   ],
   "source": [
    "for i in data5:\n",
    "    print(i['Lat'])"
   ]
  },
  {
   "cell_type": "code",
   "execution_count": null,
   "metadata": {},
   "outputs": [],
   "source": []
  }
 ],
 "metadata": {
  "kernelspec": {
   "display_name": "Python 3",
   "language": "python",
   "name": "python3"
  },
  "language_info": {
   "codemirror_mode": {
    "name": "ipython",
    "version": 3
   },
   "file_extension": ".py",
   "mimetype": "text/x-python",
   "name": "python",
   "nbconvert_exporter": "python",
   "pygments_lexer": "ipython3",
   "version": "3.7.0"
  }
 },
 "nbformat": 4,
 "nbformat_minor": 2
}
